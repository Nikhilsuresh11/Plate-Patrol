{
  "cells": [
    {
      "cell_type": "code",
      "execution_count": 5,
      "metadata": {
        "id": "6wKgPU52CZ6K"
      },
      "outputs": [],
      "source": [
        "import matplotlib.pyplot as plt\n",
        "import cv2\n",
        "import easyocr\n",
        "from IPython.display import Image"
      ]
    },
    {
      "cell_type": "code",
      "execution_count": 6,
      "metadata": {
        "colab": {
          "base_uri": "https://localhost:8080/",
          "height": 65
        },
        "id": "hxBLiy0AChPp",
        "outputId": "6f8e0eb9-eeaf-4561-dd16-50689139a125"
      },
      "outputs": [
        {
          "data": {
            "image/jpeg": "[encoded data removed]",
            "text/plain": [
              "<IPython.core.display.Image object>"
            ]
          },
          "execution_count": 6,
          "metadata": {},
          "output_type": "execute_result"
        }
      ],
      "source": [
        "Image(\"N:\\projects\\Car-Number-Plates-Detection-main\\Car-Number-Plates-Detection-main\\plates\\scaned_img_0.jpg\")\n"
      ]
    },
    {
      "cell_type": "code",
      "execution_count": 7,
      "metadata": {
        "colab": {
          "base_uri": "https://localhost:8080/"
        },
        "id": "ZYD5fu4NCq2U",
        "outputId": "8a9390ef-9bad-443f-88d8-48411a496fc6"
      },
      "outputs": [
        {
          "name": "stderr",
          "output_type": "stream",
          "text": [
            "CUDA not available - defaulting to CPU. Note: This module is much faster with a GPU.\n"
          ]
        }
      ],
      "source": [
        "\n",
        "reader = easyocr.Reader(['en'])"
      ]
    },
    {
      "cell_type": "code",
      "execution_count": 8,
      "metadata": {
        "id": "ZCHP-450Cl9x"
      },
      "outputs": [],
      "source": [
        "\n",
        "output = reader.readtext('N:\\projects\\Car-Number-Plates-Detection-main\\Car-Number-Plates-Detection-main\\plates\\scaned_img_0.jpg')"
      ]
    },
    {
      "cell_type": "code",
      "execution_count": 9,
      "metadata": {
        "colab": {
          "base_uri": "https://localhost:8080/"
        },
        "id": "Ao44WMNJC_4R",
        "outputId": "4f9bc326-5f01-4871-9388-86c3726df528"
      },
      "outputs": [
        {
          "data": {
            "text/plain": [
              "'HR26DK8337'"
            ]
          },
          "execution_count": 9,
          "metadata": {},
          "output_type": "execute_result"
        }
      ],
      "source": [
        "output[0][1]"
      ]
    },
    {
      "cell_type": "code",
      "execution_count": 10,
      "metadata": {
        "id": "SW8P4tA2DHKh"
      },
      "outputs": [],
      "source": [
        "cord = output[-1][0]"
      ]
    },
    {
      "cell_type": "code",
      "execution_count": 11,
      "metadata": {
        "colab": {
          "base_uri": "https://localhost:8080/"
        },
        "id": "Vj08hYknEXnE",
        "outputId": "61c8259b-2140-49d4-95f1-0f24ea43e5ec"
      },
      "outputs": [
        {
          "data": {
            "text/plain": [
              "[[14, 16], [160, 16], [160, 48], [14, 48]]"
            ]
          },
          "execution_count": 11,
          "metadata": {},
          "output_type": "execute_result"
        }
      ],
      "source": [
        "cord"
      ]
    },
    {
      "cell_type": "code",
      "execution_count": 12,
      "metadata": {
        "colab": {
          "base_uri": "https://localhost:8080/"
        },
        "id": "3nXoyWdoEc2i",
        "outputId": "71c34b51-6ea6-4274-b6e8-e731cfe78afb"
      },
      "outputs": [
        {
          "data": {
            "text/plain": [
              "[(14, 160, 160, 14), (16, 16, 48, 48)]"
            ]
          },
          "execution_count": 12,
          "metadata": {},
          "output_type": "execute_result"
        }
      ],
      "source": [
        "a = list(zip(*cord))\n",
        "a"
      ]
    },
    {
      "cell_type": "code",
      "execution_count": 13,
      "metadata": {
        "colab": {
          "base_uri": "https://localhost:8080/"
        },
        "id": "-Talju53ExKb",
        "outputId": "678b4ff1-531c-46d6-ec2e-e6b209d0dc8e"
      },
      "outputs": [
        {
          "data": {
            "text/plain": [
              "14"
            ]
          },
          "execution_count": 13,
          "metadata": {},
          "output_type": "execute_result"
        }
      ],
      "source": [
        "min(a[0])"
      ]
    },
    {
      "cell_type": "code",
      "execution_count": 14,
      "metadata": {
        "colab": {
          "base_uri": "https://localhost:8080/"
        },
        "id": "sfDxg7_RE_PE",
        "outputId": "a71e2913-4f3a-40e4-bddc-fda5b0a15fe6"
      },
      "outputs": [
        {
          "data": {
            "text/plain": [
              "16"
            ]
          },
          "execution_count": 14,
          "metadata": {},
          "output_type": "execute_result"
        }
      ],
      "source": [
        "min(a[1])"
      ]
    },
    {
      "cell_type": "code",
      "execution_count": 15,
      "metadata": {
        "colab": {
          "base_uri": "https://localhost:8080/"
        },
        "id": "3SNxkER_FlKN",
        "outputId": "07c72bee-cd08-4f38-919f-8adc8866144e"
      },
      "outputs": [
        {
          "data": {
            "text/plain": [
              "160"
            ]
          },
          "execution_count": 15,
          "metadata": {},
          "output_type": "execute_result"
        }
      ],
      "source": [
        "max(a[0])"
      ]
    },
    {
      "cell_type": "code",
      "execution_count": 16,
      "metadata": {
        "colab": {
          "base_uri": "https://localhost:8080/"
        },
        "id": "Ra4nrXngFlM7",
        "outputId": "0c586331-1fc5-4b8b-a248-82b43ccdd837"
      },
      "outputs": [
        {
          "data": {
            "text/plain": [
              "48"
            ]
          },
          "execution_count": 16,
          "metadata": {},
          "output_type": "execute_result"
        }
      ],
      "source": [
        "max(a[1])"
      ]
    },
    {
      "cell_type": "code",
      "execution_count": 17,
      "metadata": {
        "id": "7zwP5q_zDKuh"
      },
      "outputs": [],
      "source": [
        "\n",
        "x_min, y_min = [int(min(idx)) for idx in zip(*cord)]"
      ]
    },
    {
      "cell_type": "code",
      "execution_count": 18,
      "metadata": {
        "colab": {
          "base_uri": "https://localhost:8080/"
        },
        "id": "RlZab6VGFWgz",
        "outputId": "53556660-74a8-4c92-966b-f63dba82ef41"
      },
      "outputs": [
        {
          "data": {
            "text/plain": [
              "(14, 16)"
            ]
          },
          "execution_count": 18,
          "metadata": {},
          "output_type": "execute_result"
        }
      ],
      "source": [
        "x_min, y_min"
      ]
    },
    {
      "cell_type": "code",
      "execution_count": 19,
      "metadata": {
        "id": "XSPxi2_RDMXJ"
      },
      "outputs": [],
      "source": [
        "\n",
        "x_max, y_max = [int(max(idx)) for idx in zip(*cord)]"
      ]
    },
    {
      "cell_type": "code",
      "execution_count": 20,
      "metadata": {
        "colab": {
          "base_uri": "https://localhost:8080/"
        },
        "id": "HPJwuE3-FgNk",
        "outputId": "0b7e84f1-177d-4a91-a5e7-bb83df9dbbb6"
      },
      "outputs": [
        {
          "data": {
            "text/plain": [
              "(160, 48)"
            ]
          },
          "execution_count": 20,
          "metadata": {},
          "output_type": "execute_result"
        }
      ],
      "source": [
        "x_max, y_max"
      ]
    },
    {
      "cell_type": "code",
      "execution_count": 21,
      "metadata": {
        "id": "NNGr7AzoD3xK"
      },
      "outputs": [],
      "source": [
        "from pylab import rcParams\n",
        "rcParams['figure.figsize'] = 20, 30"
      ]
    },
    {
      "cell_type": "code",
      "execution_count": 22,
      "metadata": {
        "colab": {
          "base_uri": "https://localhost:8080/",
          "height": 825
        },
        "id": "DSxNIGFGDNga",
        "outputId": "ed0de668-4fb3-4b71-af56-2942a58d15f0"
      },
      "outputs": [
        {
          "ename": "error",
          "evalue": "OpenCV(4.5.4) D:\\a\\opencv-python\\opencv-python\\opencv\\modules\\imgproc\\src\\color.cpp:182: error: (-215:Assertion failed) !_src.empty() in function 'cv::cvtColor'\n",
          "output_type": "error",
          "traceback": [
            "\u001b[1;31m---------------------------------------------------------------------------\u001b[0m",
            "\u001b[1;31merror\u001b[0m                                     Traceback (most recent call last)",
            "\u001b[1;32mn:\\projects\\Car-Number-Plates-Detection-main\\Car-Number-Plates-Detection-main\\ocr-notebook\\easy_OCR_demo.ipynb Cell 18\u001b[0m in \u001b[0;36m3\n\u001b[0;32m      <a href='vscode-notebook-cell:/n%3A/projects/Car-Number-Plates-Detection-main/Car-Number-Plates-Detection-main/ocr-notebook/easy_OCR_demo.ipynb#X24sZmlsZQ%3D%3D?line=0'>1</a>\u001b[0m image \u001b[39m=\u001b[39m cv2\u001b[39m.\u001b[39mimread(\u001b[39m'\u001b[39m\u001b[39m/content/bottle.jpg\u001b[39m\u001b[39m'\u001b[39m)\n\u001b[0;32m      <a href='vscode-notebook-cell:/n%3A/projects/Car-Number-Plates-Detection-main/Car-Number-Plates-Detection-main/ocr-notebook/easy_OCR_demo.ipynb#X24sZmlsZQ%3D%3D?line=1'>2</a>\u001b[0m cv2\u001b[39m.\u001b[39mrectangle(image,(x_min,y_min),(x_max,y_max),(\u001b[39m0\u001b[39m,\u001b[39m0\u001b[39m,\u001b[39m255\u001b[39m),\u001b[39m2\u001b[39m)\n\u001b[1;32m----> <a href='vscode-notebook-cell:/n%3A/projects/Car-Number-Plates-Detection-main/Car-Number-Plates-Detection-main/ocr-notebook/easy_OCR_demo.ipynb#X24sZmlsZQ%3D%3D?line=2'>3</a>\u001b[0m plt\u001b[39m.\u001b[39mimshow(cv2\u001b[39m.\u001b[39mcvtColor(image, cv2\u001b[39m.\u001b[39mCOLOR_BGR2RGB))\n",
            "\u001b[1;31merror\u001b[0m: OpenCV(4.5.4) D:\\a\\opencv-python\\opencv-python\\opencv\\modules\\imgproc\\src\\color.cpp:182: error: (-215:Assertion failed) !_src.empty() in function 'cv::cvtColor'\n"
          ]
        }
      ],
      "source": [
        "image = cv2.imread('/content/bottle.jpg')\n",
        "cv2.rectangle(image,(x_min,y_min),(x_max,y_max),(0,0,255),2)\n",
        "plt.imshow(cv2.cvtColor(image, cv2.COLOR_BGR2RGB))"
      ]
    },
    {
      "cell_type": "code",
      "execution_count": null,
      "metadata": {
        "id": "4x7HEJ-dHzRp"
      },
      "outputs": [
        {
          "ename": "",
          "evalue": "",
          "output_type": "error",
          "traceback": [
            "\u001b[1;31mFailed to start the Kernel 'Python 3.10.7'. \n",
            "\u001b[1;31mView Jupyter <a href='command:jupyter.viewOutput'>log</a> for further details. EBUSY: resource busy or locked, unlink 'C:\\Users\\91720\\AppData\\Local\\Temp\\kernel-v2-28112ipWjKirAUh3C.json'"
          ]
        }
      ],
      "source": []
    }
  ],
  "metadata": {
    "accelerator": "GPU",
    "colab": {
      "provenance": []
    },
    "kernelspec": {
      "display_name": "Python 3",
      "name": "python3"
    },
    "language_info": {
      "codemirror_mode": {
        "name": "ipython",
        "version": 3
      },
      "file_extension": ".py",
      "mimetype": "text/x-python",
      "name": "python",
      "nbconvert_exporter": "python",
      "pygments_lexer": "ipython3",
      "version": "3.10.7"
    }
  },
  "nbformat": 4,
  "nbformat_minor": 0
}
